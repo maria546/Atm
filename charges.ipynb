{
 "cells": [
  {
   "cell_type": "code",
   "execution_count": 19,
   "metadata": {},
   "outputs": [
    {
     "name": "stdout",
     "output_type": "stream",
     "text": [
      "2020-02-07 22:41:20.305810\n",
      "Balance 5000000\n",
      "Enter amount to Withdraw: 10000\n",
      "with draw amount: 10000\n",
      "Current Bal:  4990076\n"
     ]
    }
   ],
   "source": [
    "import datetime\n",
    "x=datetime.datetime.now()\n",
    "\n",
    "spaces = \" \" * 25\n",
    "print(x)\n",
    "Bal = 5000000\n",
    "Fedtax = 58\n",
    "charges = 18\n",
    "\n",
    "\n",
    "print(\"Balance\",Bal)\n",
    "Amount = int(input(\"Enter amount to Withdraw: \")) \n",
    "for i in range(0,999999):\n",
    "        if(Amount < 50000):\n",
    "            amt1 = Amount - (Fedtax+charges)\n",
    "            \n",
    "            current_bal = Bal - amt1\n",
    "            print(\"with draw amount:\",Amount)\n",
    "            print(\"Current Bal: \",current_bal)\n",
    "            break\n",
    "   \n",
    "        elif(Amount > 50000):\n",
    "            amt = Amount-(Fedtax+charges)\n",
    "            amt2 = amt - 0.06\n",
    "            current_bal1 = Bal - amt2\n",
    "            print(\"with draw amount:\",Amount)\n",
    "            print(\"Current Bal: \",current_bal1)\n",
    "            break\n",
    "        else:\n",
    "            print(\"Invalid Amount\")"
   ]
  },
  {
   "cell_type": "code",
   "execution_count": null,
   "metadata": {},
   "outputs": [],
   "source": []
  },
  {
   "cell_type": "code",
   "execution_count": null,
   "metadata": {},
   "outputs": [],
   "source": []
  }
 ],
 "metadata": {
  "kernelspec": {
   "display_name": "Python 3",
   "language": "python",
   "name": "python3"
  },
  "language_info": {
   "codemirror_mode": {
    "name": "ipython",
    "version": 3
   },
   "file_extension": ".py",
   "mimetype": "text/x-python",
   "name": "python",
   "nbconvert_exporter": "python",
   "pygments_lexer": "ipython3",
   "version": "3.7.4"
  }
 },
 "nbformat": 4,
 "nbformat_minor": 2
}
